{
 "cells": [
  {
   "cell_type": "markdown",
   "metadata": {},
   "source": [
    "# Low level: 2-SAT solver with 6 qubits"
   ]
  },
  {
   "cell_type": "code",
   "execution_count": 2,
   "metadata": {},
   "outputs": [
    {
     "ename": "TypeError",
     "evalue": "cx() takes 3 positional arguments but 4 were given",
     "output_type": "error",
     "traceback": [
      "\u001b[1;31m---------------------------------------------------------------------------\u001b[0m",
      "\u001b[1;31mTypeError\u001b[0m                                 Traceback (most recent call last)",
      "\u001b[1;32m<ipython-input-2-d93e0bca8b9f>\u001b[0m in \u001b[0;36m<module>\u001b[1;34m\u001b[0m\n\u001b[0;32m     21\u001b[0m \u001b[1;33m\u001b[0m\u001b[0m\n\u001b[0;32m     22\u001b[0m \u001b[1;31m# Apply the oracle 11.\u001b[0m\u001b[1;33m\u001b[0m\u001b[1;33m\u001b[0m\u001b[1;33m\u001b[0m\u001b[0m\n\u001b[1;32m---> 23\u001b[1;33m \u001b[0mqc\u001b[0m\u001b[1;33m.\u001b[0m\u001b[0mcx\u001b[0m\u001b[1;33m(\u001b[0m\u001b[0mq\u001b[0m\u001b[1;33m[\u001b[0m\u001b[1;36m0\u001b[0m\u001b[1;33m]\u001b[0m\u001b[1;33m,\u001b[0m\u001b[0mq\u001b[0m\u001b[1;33m[\u001b[0m\u001b[1;36m1\u001b[0m\u001b[1;33m]\u001b[0m\u001b[1;33m,\u001b[0m\u001b[0mq\u001b[0m\u001b[1;33m[\u001b[0m\u001b[1;36m2\u001b[0m\u001b[1;33m]\u001b[0m\u001b[1;33m)\u001b[0m\u001b[1;33m\u001b[0m\u001b[1;33m\u001b[0m\u001b[0m\n\u001b[0m\u001b[0;32m     24\u001b[0m \u001b[1;33m\u001b[0m\u001b[0m\n\u001b[0;32m     25\u001b[0m \u001b[0mqc\u001b[0m\u001b[1;33m.\u001b[0m\u001b[0mx\u001b[0m\u001b[1;33m(\u001b[0m\u001b[0mq\u001b[0m\u001b[1;33m[\u001b[0m\u001b[1;36m0\u001b[0m\u001b[1;33m]\u001b[0m\u001b[1;33m)\u001b[0m\u001b[1;33m\u001b[0m\u001b[1;33m\u001b[0m\u001b[0m\n",
      "\u001b[1;31mTypeError\u001b[0m: cx() takes 3 positional arguments but 4 were given"
     ]
    }
   ],
   "source": [
    "# Import the Qiskit SDK.\n",
    "from qiskit import QuantumCircuit, ClassicalRegister, QuantumRegister\n",
    "from qiskit import available_backends, execute, Aer\n",
    "from qiskit.tools.visualization import plot_histogram, circuit_drawer, plot_state\n",
    "# Define the number of n-qbits.\n",
    "n = 6\n",
    "# Create a Quantum Register with n-qbits.\n",
    "q = QuantumRegister(n)\n",
    "# Create a Classical Register with n-bits.\n",
    "c = ClassicalRegister(n)\n",
    "# Create a Quantum Circuit\n",
    "qc = QuantumCircuit(q, c)\n",
    "\n",
    "# Init with |1>\n",
    "qc.x(q[0])\n",
    "qc.x(q[1])\n",
    "\n",
    "# Add H-gate to get superposition.\n",
    "qc.h(q[0])\n",
    "qc.h(q[1])\n",
    "\n",
    "# Apply the oracle 11.\n",
    "qc.cx(q[0],q[1],q[2])\n",
    "\n",
    "qc.x(q[0])\n",
    "qc.x(q[1])\n",
    "qc.cx(q[0],q[1],q[3])\n",
    "qc.x(q[0])\n",
    "qc.x(q[1])\n",
    "\n",
    "qc.x(q[0])\n",
    "qc.cx(q[0],q[4])\n",
    "qc.x(q[0])\n",
    "\n",
    "qc.x(q[2])\n",
    "qc.x(q[3])\n",
    "qc.x(q[4])\n",
    "qc.x(q[5])\n",
    "qc.cx(q[2],q[3],q[4],q[5])\n",
    "qc.x(q[2])\n",
    "qc.x(q[3])\n",
    "qc.x(q[4])\n",
    "qc.x(q[5])\n",
    "\n",
    "qc.z(q[5])\n",
    "\n",
    "qc.x(q[2])\n",
    "qc.x(q[3])\n",
    "qc.x(q[4])\n",
    "qc.x(q[5])\n",
    "qc.cx(q[2],q[3],q[4],q[5])\n",
    "qc.x(q[2])\n",
    "qc.x(q[3])\n",
    "qc.x(q[4])\n",
    "qc.x(q[5])\n",
    "\n",
    "qc.x(q[0])\n",
    "qc.cx(q[0],q[4])\n",
    "qc.x(q[0])\n",
    "\n",
    "qc.x(q[0])\n",
    "qc.x(q[1])\n",
    "qc.cx(q[0],q[1],q[3])\n",
    "qc.x(q[0])\n",
    "qc.x(q[1])\n",
    "\n",
    "qc.cx(q[0],q[1],q[2])\n",
    "\n",
    "# Apply the grover-algorithm 11\n",
    "\n",
    "\n",
    "# Measure qubit to bit. .\n",
    "qc.measure(q, c)\n",
    "\n",
    "# Get Aer backend.\n",
    "backend_sim = Aer.get_backend('qasm_simulator')\n",
    "# Compile and run the Quantum circuit on a simulator backend.\n",
    "sim_result1 = execute(qc, backend_sim, shots=1000).result()\n",
    "counts1 = sim_result1.get_counts(qc)\n",
    "# Show the results as text and plot.\n",
    "print(\"Simulation: \", sim_result1)\n",
    "print(\"Output: \", counts1)\n",
    "plot_histogram(counts1)\n",
    "circuit_drawer(qc)"
   ]
  },
  {
   "cell_type": "code",
   "execution_count": null,
   "metadata": {},
   "outputs": [],
   "source": []
  }
 ],
 "metadata": {
  "kernelspec": {
   "display_name": "Qiskitenv0.6.0",
   "language": "python",
   "name": "qiskitenv0.6.0"
  },
  "language_info": {
   "codemirror_mode": {
    "name": "ipython",
    "version": 3
   },
   "file_extension": ".py",
   "mimetype": "text/x-python",
   "name": "python",
   "nbconvert_exporter": "python",
   "pygments_lexer": "ipython3",
   "version": "3.7.1"
  }
 },
 "nbformat": 4,
 "nbformat_minor": 2
}
