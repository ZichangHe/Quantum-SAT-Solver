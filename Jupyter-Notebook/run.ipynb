{
 "cells": [
  {
   "cell_type": "markdown",
   "metadata": {},
   "source": [
    "# Using Grover Search for 3-SAT problems\n",
    "\n",
    "This notebook demonstrates how to use the `Qiskit Aqua` library Grover algorithm and process the result.\n",
    "\n",
    "Further information is available for the algorithms in the github repo qiskit_aqua/readme.md"
   ]
  },
  {
   "cell_type": "markdown",
   "metadata": {},
   "source": [
    "## Imports"
   ]
  },
  {
   "cell_type": "code",
   "execution_count": 9,
   "metadata": {},
   "outputs": [],
   "source": [
    "import pylab\n",
    "import numpy as np\n",
    "from qiskit.providers.ibmq import least_busy\n",
    "from qiskit import LegacySimulators, execute, IBMQ, Aer\n",
    "from qiskit.tools.visualization import plot_histogram\n",
    "from qiskit_aqua import QuantumInstance\n",
    "from qiskit_aqua import run_algorithm\n",
    "from qiskit_aqua.algorithms import Grover\n",
    "from qiskit_aqua.components.oracles import SAT"
   ]
  },
  {
   "cell_type": "markdown",
   "metadata": {},
   "source": [
    "## Set the SAT problem\n",
    "We have a SAT problem to which we want to find solutions using Grover and SAT oracle combination. The SAT problem is specified in the DIMACS CNF format. We read one of the sample cnf files to load the problem. We can define: \n",
    "\n",
    "- __m__ = number of variables\n",
    "- __n__ = number of equations"
   ]
  },
  {
   "cell_type": "code",
   "execution_count": 116,
   "metadata": {},
   "outputs": [
    {
     "name": "stdout",
     "output_type": "stream",
     "text": [
      "p cnf 4 5\n",
      "-1 -3 -4 0\n",
      "2 -3 -4 0\n",
      "1 -2 4 0\n",
      "1 3 4 0\n",
      "-1 2 -3 0\n"
     ]
    }
   ],
   "source": [
    "m = 4\n",
    "n = 5\n",
    "\n",
    "satProblem = 'examples\\\\3sat' + str(m) + '-' + str(n) + '.cnf'\n",
    "with open(satProblem, 'r') as f:\n",
    "    sat_cnf = f.read()\n",
    "print(sat_cnf)"
   ]
  },
  {
   "cell_type": "markdown",
   "metadata": {},
   "source": [
    "## Create oracle\n",
    "With this problem input, we create the corresponding `oracle` component:"
   ]
  },
  {
   "cell_type": "code",
   "execution_count": 117,
   "metadata": {},
   "outputs": [],
   "source": [
    "sat_oracle = SAT(sat_cnf)"
   ]
  },
  {
   "cell_type": "markdown",
   "metadata": {},
   "source": [
    "## Create Grover instance\n",
    "The `oracle` can now be used to create an Grover instance:"
   ]
  },
  {
   "cell_type": "code",
   "execution_count": 118,
   "metadata": {},
   "outputs": [],
   "source": [
    "algorithm = Grover(sat_oracle)"
   ]
  },
  {
   "cell_type": "markdown",
   "metadata": {},
   "source": [
    "## Get result with simulation\n",
    "We can then configure the backend and run the Grover instance to get the result:"
   ]
  },
  {
   "cell_type": "code",
   "execution_count": 119,
   "metadata": {},
   "outputs": [
    {
     "name": "stdout",
     "output_type": "stream",
     "text": [
      "[1, 2, -3, -4]\n"
     ]
    }
   ],
   "source": [
    "sim_backend = Aer.get_backend('qasm_simulator')\n",
    "result = algorithm.run(sim_backend)\n",
    "print(result['result'])"
   ]
  },
  {
   "cell_type": "markdown",
   "metadata": {},
   "source": [
    "As seen above, a satisfying solution to the specified sample SAT problem is obtained, with the absolute values indicating the variable indices for example $1 = x_{1}, 2 = x_{2}$, and the signs the `True/False` assignments for example `1 = True, -1 = False`, similar to the DIMACS format.\n",
    "\n",
    "A measurements result is also returned where it can be seen, below in the plot, that `result['result']` was the highest probability. But the other solutions were very close in probability too."
   ]
  },
  {
   "cell_type": "code",
   "execution_count": 120,
   "metadata": {},
   "outputs": [
    {
     "data": {
      "image/png": "[encoded data removed]",
      "text/plain": [
       "<Figure size 504x360 with 1 Axes>"
      ]
     },
     "execution_count": 120,
     "metadata": {},
     "output_type": "execute_result"
    }
   ],
   "source": [
    "plot_histogram(result['measurements'])\n",
    " # figsize    = (15,12),\n",
    "# bar_labels = False)"
   ]
  },
  {
   "cell_type": "markdown",
   "metadata": {},
   "source": [
    "# Get result with IBM Q backend\n",
    "Run on real backend device from IBM Q. Limit for device is 2-2."
   ]
  },
  {
   "cell_type": "code",
   "execution_count": 85,
   "metadata": {},
   "outputs": [],
   "source": [
    "# Authenticate for access to remote backends\n",
    "try:\n",
    "    import Qconfig\n",
    "    IBMQ.load_accounts()\n",
    "except:\n",
    "    print(\"\"\"WARNING: There's no connection with the API for remote backends.\n",
    "             Have you initialized a file with your personal token?\n",
    "             For now, there's only access to local simulator backends...\"\"\")"
   ]
  },
  {
   "cell_type": "code",
   "execution_count": 86,
   "metadata": {},
   "outputs": [
    {
     "name": "stdout",
     "output_type": "stream",
     "text": [
      "[-1, 2]\n"
     ]
    },
    {
     "data": {
      "image/png": "[encoded data removed]",
      "text/plain": [
       "<Figure size 504x360 with 1 Axes>"
      ]
     },
     "execution_count": 86,
     "metadata": {},
     "output_type": "execute_result"
    }
   ],
   "source": [
    "ibmq_backend = least_busy(IBMQ.backends(simulator=False))\n",
    "result = algorithm.run(ibmq_backend)\n",
    "print(result['result'])\n",
    "plot_histogram(result['measurements'])"
   ]
  },
  {
   "cell_type": "markdown",
   "metadata": {},
   "source": [
    "## Shortcut\n",
    "The above step-by-step programatic approach can also be achieved by using a json configuration dictionary with the parameters for the algorithm and any other dependent objects it requires, as follows:"
   ]
  },
  {
   "cell_type": "code",
   "execution_count": 60,
   "metadata": {
    "scrolled": true
   },
   "outputs": [
    {
     "ename": "NameError",
     "evalue": "name 'backend' is not defined",
     "output_type": "error",
     "traceback": [
      "\u001b[1;31m---------------------------------------------------------------------------\u001b[0m",
      "\u001b[1;31mNameError\u001b[0m                                 Traceback (most recent call last)",
      "\u001b[1;32m<ipython-input-60-237eb6be82c1>\u001b[0m in \u001b[0;36m<module>\u001b[1;34m\u001b[0m\n\u001b[0;32m     13\u001b[0m }\n\u001b[0;32m     14\u001b[0m \u001b[1;33m\u001b[0m\u001b[0m\n\u001b[1;32m---> 15\u001b[1;33m \u001b[0mresult_dict\u001b[0m \u001b[1;33m=\u001b[0m \u001b[0mrun_algorithm\u001b[0m\u001b[1;33m(\u001b[0m\u001b[0mparams\u001b[0m\u001b[1;33m,\u001b[0m \u001b[0mbackend\u001b[0m\u001b[1;33m=\u001b[0m\u001b[0mbackend\u001b[0m\u001b[1;33m)\u001b[0m\u001b[1;33m\u001b[0m\u001b[1;33m\u001b[0m\u001b[0m\n\u001b[0m\u001b[0;32m     16\u001b[0m \u001b[0mplot_histogram\u001b[0m\u001b[1;33m(\u001b[0m\u001b[0mresult_dict\u001b[0m\u001b[1;33m[\u001b[0m\u001b[1;34m'measurements'\u001b[0m\u001b[1;33m]\u001b[0m\u001b[1;33m)\u001b[0m\u001b[1;33m\u001b[0m\u001b[1;33m\u001b[0m\u001b[0m\n",
      "\u001b[1;31mNameError\u001b[0m: name 'backend' is not defined"
     ]
    }
   ],
   "source": [
    "params = {\n",
    "    'problem': {'name': 'search'},\n",
    "    'algorithm': {\n",
    "        'name': 'Grover'\n",
    "    },\n",
    "    'oracle': {\n",
    "        'name': 'SAT',\n",
    "        'cnf': sat_cnf\n",
    "    },\n",
    "    'backend': {\n",
    "        'shots': 100\n",
    "    }\n",
    "}\n",
    "\n",
    "result_dict = run_algorithm(params, backend=backend)\n",
    "plot_histogram(result_dict['measurements'])"
   ]
  },
  {
   "cell_type": "code",
   "execution_count": 28,
   "metadata": {},
   "outputs": [
    {
     "name": "stdout",
     "output_type": "stream",
     "text": [
      "Output for 100110 = False\n"
     ]
    }
   ],
   "source": [
    "from __future__ import print_function\n",
    "\n",
    "def even_ones(s):\n",
    "    # Two states:\n",
    "    # - 0 (even number of ones seen so far)\n",
    "    # - 1 (odd number of ones seen so far)\n",
    "    rules = {(0, '0'): 0,\n",
    "             (0, '1'): 1,\n",
    "             (1, '0'): 1,\n",
    "             (1, '1'): 0}\n",
    "    # There are 0 (which is an even number) ones in the empty\n",
    "    # string so we start with state = 0.\n",
    "    state = 0\n",
    "    for c in s:\n",
    "        state = rules[state, c]\n",
    "    return state == 0\n",
    "\n",
    "\n",
    "# Example usage:\n",
    "s = \"100110\"\n",
    "print('Output for {} = {}'.format(s, even_ones(s)))"
   ]
  }
 ],
 "metadata": {
  "kernelspec": {
   "display_name": "Qiskitenv",
   "language": "python",
   "name": "qiskitenv"
  },
  "language_info": {
   "codemirror_mode": {
    "name": "ipython",
    "version": 3
   },
   "file_extension": ".py",
   "mimetype": "text/x-python",
   "name": "python",
   "nbconvert_exporter": "python",
   "pygments_lexer": "ipython3",
   "version": "3.6.8"
  }
 },
 "nbformat": 4,
 "nbformat_minor": 2
}
